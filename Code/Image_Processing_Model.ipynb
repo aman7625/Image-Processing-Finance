{
 "cells": [
  {
   "cell_type": "code",
   "execution_count": 2,
   "metadata": {},
   "outputs": [],
   "source": [
    "import talib\n",
    "import pandas as pd\n",
    "import numpy as np\n",
    "from itertools import chain "
   ]
  },
  {
   "cell_type": "code",
   "execution_count": null,
   "metadata": {},
   "outputs": [],
   "source": [
    "import tensorflow as tf\n",
    "from tensorflow.keras import datasets, layers, models\n",
    "from tensorflow.keras import regularizers\n",
    "np.random.seed(2020)"
   ]
  },
  {
   "cell_type": "code",
   "execution_count": 4,
   "metadata": {},
   "outputs": [],
   "source": [
    "import matplotlib.pyplot as plt"
   ]
  },
  {
   "cell_type": "code",
   "execution_count": 5,
   "metadata": {},
   "outputs": [],
   "source": [
    "df=pd.read_csv(\"TataMotorsTrain.csv\")\n",
    "df1=pd.read_csv(\"TataMotorsVal.csv\")  #Validation-set\n",
    "df2=pd.read_csv(\"TataMotorsTest.csv\")  #test-set"
   ]
  },
  {
   "cell_type": "code",
   "execution_count": 6,
   "metadata": {},
   "outputs": [],
   "source": [
    "df['result']=0\n",
    "df1['result']=0\n",
    "df2['result']=0"
   ]
  },
  {
   "cell_type": "code",
   "execution_count": 7,
   "metadata": {},
   "outputs": [],
   "source": [
    "def labelling(data):\n",
    "    windowsize = 11\n",
    "    counterrow = 0\n",
    "    numberofdays = data.shape[0]\n",
    "    result = np.array(data['result'])\n",
    "    while(counterrow < numberofdays):\n",
    "        counterrow = counterrow + 1\n",
    "        if(counterrow > windowsize):\n",
    "            windowbeginindex = counterrow - windowsize\n",
    "            windowendindex = windowbeginindex + windowsize - 1\n",
    "            windowmiddleindex = (windowbeginindex + windowendindex)/2\n",
    "            minimum = max(data['Adj Close'])\n",
    "            maximum = 0\n",
    "            for i in range(windowbeginindex-1, windowendindex):               \n",
    "                number = data['Adj Close'].iloc[i]\n",
    "                if(number < minimum):\n",
    "                    minimum = number\n",
    "                    minindex = i\n",
    "                if(number > maximum):\n",
    "                    maximum = number\n",
    "                    maxindex = i\n",
    "            result[minindex] = 1    ## 1 for buy  ,  0 for hold\n",
    "            result[maxindex] = 2    ## 2 for sell\n",
    "    return result"
   ]
  },
  {
   "cell_type": "code",
   "execution_count": 8,
   "metadata": {},
   "outputs": [],
   "source": [
    "df[\"result\"]=labelling(df)\n",
    "df1[\"result\"]=labelling(df1)\n",
    "df2[\"result\"]=labelling(df2)"
   ]
  },
  {
   "cell_type": "code",
   "execution_count": 9,
   "metadata": {},
   "outputs": [],
   "source": [
    "for n in range(6,21):\n",
    "    df['rsi' + str(n)] = talib.RSI(df['Adj Close'].values, timeperiod=n)\n",
    "    df['roc' + str(n)] = talib.ROC(df['Adj Close'].values, timeperiod=n)\n",
    "    df['sma' + str(n)] = talib.SMA(df['Adj Close'].values, timeperiod=n)\n",
    "    df['ema' + str(n)] = talib.EMA(df['Adj Close'].values, timeperiod=n)\n",
    "    df['wma' + str(n)] = talib.WMA(df['Adj Close'].values, timeperiod=n)\n",
    "    df['tema' + str(n)] = talib.TEMA(df['Adj Close'].values, timeperiod=n)\n",
    "    df['william' + str(n)] = talib.WILLR(df['High'].values,df['Low'].values,df['Adj Close'].values, timeperiod=n)\n",
    "    df['cci' + str(n)] = talib.CCI(df['High'].values,df['Low'].values,df['Adj Close'].values, timeperiod=n)\n",
    "    df['cmo' + str(n)] = talib.CMO(df['Adj Close'].values, timeperiod=n)\n",
    "    df['macd' + str(n)],df['macdSignal' + str(n)] ,df['macdHist' + str(n)]  = talib.MACD(df['Adj Close'].values,fastperiod=12, slowperiod=26, signalperiod=9)\n",
    "    df['ppo' + str(n)] = talib.PPO(df['Adj Close'].values, fastperiod=12, slowperiod=26, matype=0)\n",
    "    df['parabolicsar'+ str(n)] = talib.SAR(df['High'].values, df['Low'].values, acceleration=0, maximum=0)  \n",
    "    \n",
    "for n in range(6,21):\n",
    "    df1['rsi' + str(n)] = talib.RSI(df1['Adj Close'].values, timeperiod=n)\n",
    "    df1['roc' + str(n)] = talib.ROC(df1['Adj Close'].values, timeperiod=n)\n",
    "    df1['sma' + str(n)] = talib.SMA(df1['Adj Close'].values, timeperiod=n)\n",
    "    df1['ema' + str(n)] = talib.EMA(df1['Adj Close'].values, timeperiod=n)\n",
    "    df1['wma' + str(n)] = talib.WMA(df1['Adj Close'].values, timeperiod=n)\n",
    "    df1['tema' + str(n)] = talib.TEMA(df1['Adj Close'].values, timeperiod=n)\n",
    "    df1['william' + str(n)] = talib.WILLR(df1['High'].values,df1['Low'].values,df1['Adj Close'].values, timeperiod=n)\n",
    "    df1['cci' + str(n)] = talib.CCI(df1['High'].values,df1['Low'].values,df1['Adj Close'].values, timeperiod=n)\n",
    "    df1['cmo' + str(n)] = talib.CMO(df1['Adj Close'].values, timeperiod=n)\n",
    "    df1['macd' + str(n)],df1['macdSignal' + str(n)] ,df1['macdHist' + str(n)]  = talib.MACD(df1['Adj Close'].values,fastperiod=12, slowperiod=26, signalperiod=9)\n",
    "    df1['ppo' + str(n)] = talib.PPO(df1['Adj Close'].values, fastperiod=12, slowperiod=26, matype=0)\n",
    "    df1['parabolicsar'+ str(n)] = talib.SAR(df1['High'].values, df1['Low'].values, acceleration=0, maximum=0)  \n",
    "    \n",
    "for n in range(6,21):\n",
    "    df2['rsi' + str(n)] = talib.RSI(df2['Adj Close'].values, timeperiod=n)\n",
    "    df2['roc' + str(n)] = talib.ROC(df2['Adj Close'].values, timeperiod=n)\n",
    "    df2['sma' + str(n)] = talib.SMA(df2['Adj Close'].values, timeperiod=n)\n",
    "    df2['ema' + str(n)] = talib.EMA(df2['Adj Close'].values, timeperiod=n)\n",
    "    df2['wma' + str(n)] = talib.WMA(df2['Adj Close'].values, timeperiod=n)\n",
    "    df2['tema' + str(n)] = talib.TEMA(df2['Adj Close'].values, timeperiod=n)\n",
    "    df2['william' + str(n)] = talib.WILLR(df2['High'].values,df2['Low'].values,df2['Adj Close'].values, timeperiod=n)\n",
    "    df2['cci' + str(n)] = talib.CCI(df2['High'].values,df2['Low'].values,df2['Adj Close'].values, timeperiod=n)\n",
    "    df2['cmo' + str(n)] = talib.CMO(df2['Adj Close'].values, timeperiod=n)\n",
    "    df2['macd' + str(n)],df2['macdSignal' + str(n)] ,df2['macdHist' + str(n)]  = talib.MACD(df2['Adj Close'].values,fastperiod=12, slowperiod=26, signalperiod=9)\n",
    "    df2['ppo' + str(n)] = talib.PPO(df2['Adj Close'].values, fastperiod=12, slowperiod=26, matype=0)\n",
    "    df2['parabolicsar'+ str(n)] = talib.SAR(df2['High'].values, df2['Low'].values, acceleration=0, maximum=0)  "
   ]
  },
  {
   "cell_type": "code",
   "execution_count": 10,
   "metadata": {},
   "outputs": [],
   "source": [
    "rsi=df[['rsi'+str(n) for n in range(6,21)]].to_numpy()\n",
    "roc=df[['roc'+str(n) for n in range(6,21)]].to_numpy()\n",
    "sma=df[['sma'+str(n) for n in range(6,21)]].to_numpy()\n",
    "ema=df[['ema'+str(n) for n in range(6,21)]].to_numpy()\n",
    "wma=df[['wma'+str(n) for n in range(6,21)]].to_numpy()\n",
    "tema=df[['tema'+str(n) for n in range(6,21)]].to_numpy()\n",
    "william=df[['william'+str(n) for n in range(6,21)]].to_numpy()\n",
    "cci=df[['cci'+str(n) for n in range(6,21)]].to_numpy()\n",
    "cmo=df[['cmo'+str(n) for n in range(6,21)]].to_numpy()\n",
    "macd=df[['macd'+str(n) for n in range(6,21)]].to_numpy()\n",
    "ppo=df[['ppo'+str(n) for n in range(6,21)]].to_numpy()\n",
    "parabolicsar=df[['parabolicsar'+str(n) for n in range(6,21)]].to_numpy()\n",
    "\n",
    "\n",
    "rsi1=df1[['rsi'+str(n) for n in range(6,21)]].to_numpy()\n",
    "roc1=df1[['roc'+str(n) for n in range(6,21)]].to_numpy()\n",
    "sma1=df1[['sma'+str(n) for n in range(6,21)]].to_numpy()\n",
    "ema1=df1[['ema'+str(n) for n in range(6,21)]].to_numpy()\n",
    "wma1=df1[['wma'+str(n) for n in range(6,21)]].to_numpy()\n",
    "tema1=df1[['tema'+str(n) for n in range(6,21)]].to_numpy()\n",
    "william1=df1[['william'+str(n) for n in range(6,21)]].to_numpy()\n",
    "cci1=df1[['cci'+str(n) for n in range(6,21)]].to_numpy()\n",
    "cmo1=df1[['cmo'+str(n) for n in range(6,21)]].to_numpy()\n",
    "macd1=df1[['macd'+str(n) for n in range(6,21)]].to_numpy()\n",
    "ppo1=df1[['ppo'+str(n) for n in range(6,21)]].to_numpy()\n",
    "parabolicsar1=df1[['parabolicsar'+str(n) for n in range(6,21)]].to_numpy()\n",
    "\n",
    "rsi2=df2[['rsi'+str(n) for n in range(6,21)]].to_numpy()\n",
    "roc2=df2[['roc'+str(n) for n in range(6,21)]].to_numpy()\n",
    "sma2=df2[['sma'+str(n) for n in range(6,21)]].to_numpy()\n",
    "ema2=df2[['ema'+str(n) for n in range(6,21)]].to_numpy()\n",
    "wma2=df2[['wma'+str(n) for n in range(6,21)]].to_numpy()\n",
    "tema2=df2[['tema'+str(n) for n in range(6,21)]].to_numpy()\n",
    "william2=df2[['william'+str(n) for n in range(6,21)]].to_numpy()\n",
    "cci2=df2[['cci'+str(n) for n in range(6,21)]].to_numpy()\n",
    "cmo2=df2[['cmo'+str(n) for n in range(6,21)]].to_numpy()\n",
    "macd2=df2[['macd'+str(n) for n in range(6,21)]].to_numpy()\n",
    "ppo2=df2[['ppo'+str(n) for n in range(6,21)]].to_numpy()\n",
    "parabolicsar2=df2[['parabolicsar'+str(n) for n in range(6,21)]].to_numpy()"
   ]
  },
  {
   "cell_type": "code",
   "execution_count": 11,
   "metadata": {},
   "outputs": [],
   "source": [
    "train_images=[[j for j in chain.from_iterable([rsi[i],roc[i],sma[i],ema[i],william[i],cci[i],cmo[i],macd[i],ppo[i],tema[i],wma[i],parabolicsar[i]])]for i in df.index]"
   ]
  },
  {
   "cell_type": "code",
   "execution_count": 12,
   "metadata": {},
   "outputs": [
    {
     "name": "stderr",
     "output_type": "stream",
     "text": [
      "C:\\Users\\m5in\\anaconda3\\envs\\opencv-env\\lib\\site-packages\\sklearn\\preprocessing\\_data.py:373: RuntimeWarning: All-NaN slice encountered\n",
      "  data_min = np.nanmin(X, axis=0)\n",
      "C:\\Users\\m5in\\anaconda3\\envs\\opencv-env\\lib\\site-packages\\sklearn\\preprocessing\\_data.py:374: RuntimeWarning: All-NaN slice encountered\n",
      "  data_max = np.nanmax(X, axis=0)\n"
     ]
    }
   ],
   "source": [
    "from sklearn.preprocessing import MinMaxScaler\n",
    "scaler=MinMaxScaler(feature_range=(-1,1))\n",
    "\n",
    "train_images=np.array(train_images)\n",
    "train_images=scaler.fit_transform(train_images)\n",
    "train_images=train_images.reshape(1483,12,15,1)\n",
    "train_labels=df[\"result\"].to_numpy()"
   ]
  },
  {
   "cell_type": "code",
   "execution_count": 13,
   "metadata": {},
   "outputs": [],
   "source": [
    "validate_images=[[j for j in chain.from_iterable([rsi1[i],roc1[i],sma1[i],ema1[i],william1[i],cci1[i],cmo1[i],macd1[i],ppo1[i],tema1[i],wma1[i],parabolicsar1[i]])]for i in df1.index]\n",
    "validate_images=np.array(validate_images)\n",
    "validate_images=scaler.fit_transform(validate_images)\n",
    "validate_images=validate_images.reshape(346,12,15,1)\n",
    "validate_labels=df1[\"result\"].to_numpy()\n",
    "\n",
    "test_images=[[j for j in chain.from_iterable([rsi2[i],roc2[i],sma2[i],ema2[i],william2[i],cci2[i],cmo2[i],macd2[i],ppo2[i],tema2[i],wma2[i],parabolicsar2[i]])]for i in df2.index]\n",
    "test_images=np.array(test_images)\n",
    "test_images=scaler.fit_transform(test_images)\n",
    "test_images=test_images.reshape(306,12,15,1)\n",
    "test_labels=df2[\"result\"].to_numpy()"
   ]
  },
  {
   "cell_type": "code",
   "execution_count": 14,
   "metadata": {},
   "outputs": [],
   "source": [
    "class_names = ['Hold','Buy','Sell']"
   ]
  },
  {
   "cell_type": "code",
   "execution_count": 15,
   "metadata": {},
   "outputs": [],
   "source": [
    "train_images=np.nan_to_num(train_images)\n",
    "a=np.amax(train_images)\n",
    "train_images/=a\n",
    "\n",
    "validate_images=np.nan_to_num(validate_images)\n",
    "a=np.amax(validate_images)\n",
    "validate_images/=a\n",
    "\n",
    "test_images=np.nan_to_num(test_images)\n",
    "a=np.amax(test_images)\n",
    "test_images/=a"
   ]
  },
  {
   "cell_type": "code",
   "execution_count": 16,
   "metadata": {},
   "outputs": [
    {
     "name": "stdout",
     "output_type": "stream",
     "text": [
      "WARNING:tensorflow:From C:\\Users\\m5in\\anaconda3\\envs\\opencv-env\\lib\\site-packages\\tensorflow\\python\\ops\\init_ops.py:1251: calling VarianceScaling.__init__ (from tensorflow.python.ops.init_ops) with dtype is deprecated and will be removed in a future version.\n",
      "Instructions for updating:\n",
      "Call initializer instance with the dtype argument instead of passing it to the constructor\n"
     ]
    }
   ],
   "source": [
    "model = models.Sequential()\n",
    "model.add(layers.Conv2D(32, (3, 3), activation='relu', input_shape=(12,15,1)))\n",
    "#model.add(layers.MaxPooling2D((2, 2)))\n",
    "model.add(layers.Conv2D(64, (3, 3), activation='relu'))\n",
    "model.add(layers.MaxPooling2D((2, 2)))\n",
    "#model.add(layers.BatchNormalization())\n",
    "model.add(layers.Dropout(0.25,seed=0))\n",
    "model.add(layers.Flatten())\n",
    "model.add(layers.Dense(128,activation='relu'))\n",
    "model.add(layers.Dropout(0.5))\n",
    "model.add(layers.Dense(3))"
   ]
  },
  {
   "cell_type": "code",
   "execution_count": 17,
   "metadata": {},
   "outputs": [
    {
     "name": "stdout",
     "output_type": "stream",
     "text": [
      "Model: \"sequential\"\n",
      "_________________________________________________________________\n",
      "Layer (type)                 Output Shape              Param #   \n",
      "=================================================================\n",
      "conv2d (Conv2D)              (None, 10, 13, 32)        320       \n",
      "_________________________________________________________________\n",
      "conv2d_1 (Conv2D)            (None, 8, 11, 64)         18496     \n",
      "_________________________________________________________________\n",
      "max_pooling2d (MaxPooling2D) (None, 4, 5, 64)          0         \n",
      "_________________________________________________________________\n",
      "dropout (Dropout)            (None, 4, 5, 64)          0         \n",
      "_________________________________________________________________\n",
      "flatten (Flatten)            (None, 1280)              0         \n",
      "_________________________________________________________________\n",
      "dense (Dense)                (None, 128)               163968    \n",
      "_________________________________________________________________\n",
      "dropout_1 (Dropout)          (None, 128)               0         \n",
      "_________________________________________________________________\n",
      "dense_1 (Dense)              (None, 3)                 387       \n",
      "=================================================================\n",
      "Total params: 183,171\n",
      "Trainable params: 183,171\n",
      "Non-trainable params: 0\n",
      "_________________________________________________________________\n"
     ]
    }
   ],
   "source": [
    "model.summary()"
   ]
  },
  {
   "cell_type": "code",
   "execution_count": 18,
   "metadata": {},
   "outputs": [
    {
     "name": "stderr",
     "output_type": "stream",
     "text": [
      "Using TensorFlow backend.\n"
     ]
    }
   ],
   "source": [
    "from keras.utils import np_utils\n",
    "\n",
    "train_labels = np_utils.to_categorical(train_labels, 3)\n",
    "validate_labels = np_utils.to_categorical(validate_labels, 3)\n",
    "test_labels = np_utils.to_categorical(test_labels,3)"
   ]
  },
  {
   "cell_type": "code",
   "execution_count": 19,
   "metadata": {
    "scrolled": true
   },
   "outputs": [
    {
     "name": "stdout",
     "output_type": "stream",
     "text": [
      "Train on 1483 samples, validate on 346 samples\n",
      "Epoch 1/100\n",
      "1483/1483 [==============================] - 1s 682us/sample - loss: 1.0209 - acc: 0.5064 - val_loss: 1.1101 - val_acc: 0.4798\n",
      "Epoch 2/100\n",
      "1483/1483 [==============================] - 1s 380us/sample - loss: 0.9636 - acc: 0.5597 - val_loss: 1.1242 - val_acc: 0.5087\n",
      "Epoch 3/100\n",
      "1483/1483 [==============================] - 1s 358us/sample - loss: 0.9648 - acc: 0.5637 - val_loss: 1.0007 - val_acc: 0.5462\n",
      "Epoch 4/100\n",
      "1483/1483 [==============================] - 1s 395us/sample - loss: 0.9356 - acc: 0.5806 - val_loss: 0.9910 - val_acc: 0.5636\n",
      "Epoch 5/100\n",
      "1483/1483 [==============================] - 1s 391us/sample - loss: 0.9387 - acc: 0.5799 - val_loss: 0.9915 - val_acc: 0.5376\n",
      "Epoch 6/100\n",
      "1483/1483 [==============================] - 1s 387us/sample - loss: 0.9168 - acc: 0.5995 - val_loss: 0.9990 - val_acc: 0.5462\n",
      "Epoch 7/100\n",
      "1483/1483 [==============================] - 1s 345us/sample - loss: 0.9225 - acc: 0.5988 - val_loss: 0.9812 - val_acc: 0.5607\n",
      "Epoch 8/100\n",
      "1483/1483 [==============================] - 0s 329us/sample - loss: 0.9123 - acc: 0.5927 - val_loss: 1.0070 - val_acc: 0.5405\n",
      "Epoch 9/100\n",
      "1483/1483 [==============================] - 0s 330us/sample - loss: 0.9088 - acc: 0.6022 - val_loss: 0.9978 - val_acc: 0.5260\n",
      "Epoch 10/100\n",
      "1483/1483 [==============================] - 1s 366us/sample - loss: 0.9029 - acc: 0.6082 - val_loss: 0.9839 - val_acc: 0.5376\n",
      "Epoch 11/100\n",
      "1483/1483 [==============================] - 1s 374us/sample - loss: 0.9090 - acc: 0.6129 - val_loss: 1.0036 - val_acc: 0.5116\n",
      "Epoch 12/100\n",
      "1483/1483 [==============================] - 1s 495us/sample - loss: 0.9046 - acc: 0.6082 - val_loss: 0.9869 - val_acc: 0.5289\n",
      "Epoch 13/100\n",
      "1483/1483 [==============================] - 1s 488us/sample - loss: 0.8959 - acc: 0.6096 - val_loss: 0.9958 - val_acc: 0.5173\n",
      "Epoch 14/100\n",
      "1483/1483 [==============================] - 1s 462us/sample - loss: 0.8983 - acc: 0.6076 - val_loss: 1.0337 - val_acc: 0.5116\n",
      "Epoch 15/100\n",
      "1483/1483 [==============================] - 1s 491us/sample - loss: 0.9012 - acc: 0.6096 - val_loss: 0.9903 - val_acc: 0.5289\n",
      "Epoch 16/100\n",
      "1483/1483 [==============================] - 1s 497us/sample - loss: 0.9028 - acc: 0.6082 - val_loss: 1.0003 - val_acc: 0.5289\n",
      "Epoch 17/100\n",
      "1483/1483 [==============================] - 1s 511us/sample - loss: 0.8870 - acc: 0.6129 - val_loss: 1.0383 - val_acc: 0.5058\n",
      "Epoch 18/100\n",
      "1483/1483 [==============================] - 1s 494us/sample - loss: 0.9020 - acc: 0.6035 - val_loss: 1.0254 - val_acc: 0.4884\n",
      "Epoch 19/100\n",
      "1483/1483 [==============================] - 1s 498us/sample - loss: 0.8899 - acc: 0.6082 - val_loss: 1.0233 - val_acc: 0.5231\n",
      "Epoch 20/100\n",
      "1483/1483 [==============================] - 1s 456us/sample - loss: 0.8948 - acc: 0.6163 - val_loss: 1.0112 - val_acc: 0.5087\n",
      "Epoch 21/100\n",
      "1483/1483 [==============================] - 1s 457us/sample - loss: 0.8901 - acc: 0.6150 - val_loss: 1.0247 - val_acc: 0.5029\n",
      "Epoch 22/100\n",
      "1483/1483 [==============================] - 1s 428us/sample - loss: 0.8829 - acc: 0.6177 - val_loss: 1.0338 - val_acc: 0.4913\n",
      "Epoch 23/100\n",
      "1483/1483 [==============================] - 1s 451us/sample - loss: 0.8863 - acc: 0.6170 - val_loss: 1.0465 - val_acc: 0.5116\n",
      "Epoch 24/100\n",
      "1483/1483 [==============================] - 1s 501us/sample - loss: 0.8939 - acc: 0.6136 - val_loss: 1.0403 - val_acc: 0.4855\n",
      "Epoch 25/100\n",
      "1483/1483 [==============================] - 1s 466us/sample - loss: 0.8854 - acc: 0.6170 - val_loss: 1.0658 - val_acc: 0.4769\n",
      "Epoch 26/100\n",
      "1483/1483 [==============================] - 1s 487us/sample - loss: 0.8919 - acc: 0.6204 - val_loss: 1.1641 - val_acc: 0.4162\n",
      "Epoch 27/100\n",
      "1483/1483 [==============================] - 1s 498us/sample - loss: 0.8726 - acc: 0.6204 - val_loss: 1.1463 - val_acc: 0.4364\n",
      "Epoch 28/100\n",
      "1483/1483 [==============================] - 1s 464us/sample - loss: 0.8760 - acc: 0.6298 - val_loss: 1.0904 - val_acc: 0.4653\n",
      "Epoch 29/100\n",
      "1483/1483 [==============================] - 1s 493us/sample - loss: 0.8740 - acc: 0.6089 - val_loss: 1.1256 - val_acc: 0.4480\n",
      "Epoch 30/100\n",
      "1483/1483 [==============================] - 1s 454us/sample - loss: 0.8633 - acc: 0.6285 - val_loss: 1.1266 - val_acc: 0.4393\n",
      "Epoch 31/100\n",
      "1483/1483 [==============================] - 1s 448us/sample - loss: 0.8676 - acc: 0.6298 - val_loss: 1.2010 - val_acc: 0.4075\n",
      "Epoch 32/100\n",
      "1483/1483 [==============================] - 1s 449us/sample - loss: 0.8743 - acc: 0.6271 - val_loss: 1.2058 - val_acc: 0.4104\n",
      "Epoch 33/100\n",
      "1483/1483 [==============================] - 1s 445us/sample - loss: 0.8762 - acc: 0.6170 - val_loss: 1.1438 - val_acc: 0.4451\n",
      "Epoch 34/100\n",
      "1483/1483 [==============================] - 1s 445us/sample - loss: 0.8683 - acc: 0.6285 - val_loss: 1.1541 - val_acc: 0.4480\n",
      "Epoch 35/100\n",
      "1483/1483 [==============================] - 1s 467us/sample - loss: 0.8608 - acc: 0.6318 - val_loss: 1.1884 - val_acc: 0.4249\n",
      "Epoch 36/100\n",
      "1483/1483 [==============================] - 1s 449us/sample - loss: 0.8650 - acc: 0.6305 - val_loss: 1.1469 - val_acc: 0.4480\n",
      "Epoch 37/100\n",
      "1483/1483 [==============================] - 1s 457us/sample - loss: 0.8591 - acc: 0.6298 - val_loss: 1.2175 - val_acc: 0.4364\n",
      "Epoch 38/100\n",
      "1483/1483 [==============================] - 1s 437us/sample - loss: 0.8547 - acc: 0.6325 - val_loss: 1.1338 - val_acc: 0.4451\n",
      "Epoch 39/100\n",
      "1483/1483 [==============================] - 1s 444us/sample - loss: 0.8599 - acc: 0.6251 - val_loss: 1.1990 - val_acc: 0.4451\n",
      "Epoch 40/100\n",
      "1483/1483 [==============================] - 1s 480us/sample - loss: 0.8562 - acc: 0.6285 - val_loss: 1.1031 - val_acc: 0.5058\n",
      "Epoch 41/100\n",
      "1483/1483 [==============================] - 1s 475us/sample - loss: 0.8598 - acc: 0.6339 - val_loss: 1.1158 - val_acc: 0.4422\n",
      "Epoch 42/100\n",
      "1483/1483 [==============================] - 1s 433us/sample - loss: 0.8485 - acc: 0.6271 - val_loss: 1.1390 - val_acc: 0.4480\n",
      "Epoch 43/100\n",
      "1483/1483 [==============================] - 1s 444us/sample - loss: 0.8489 - acc: 0.6305 - val_loss: 1.1973 - val_acc: 0.4306\n",
      "Epoch 44/100\n",
      "1483/1483 [==============================] - 1s 466us/sample - loss: 0.8465 - acc: 0.6386 - val_loss: 1.1698 - val_acc: 0.4509\n",
      "Epoch 45/100\n",
      "1483/1483 [==============================] - 1s 498us/sample - loss: 0.8402 - acc: 0.6318 - val_loss: 1.1908 - val_acc: 0.4422\n",
      "Epoch 46/100\n",
      "1483/1483 [==============================] - 1s 478us/sample - loss: 0.8519 - acc: 0.6264 - val_loss: 1.2237 - val_acc: 0.4364\n",
      "Epoch 47/100\n",
      "1483/1483 [==============================] - 1s 440us/sample - loss: 0.8446 - acc: 0.6413 - val_loss: 1.1642 - val_acc: 0.4393\n",
      "Epoch 48/100\n",
      "1483/1483 [==============================] - 1s 427us/sample - loss: 0.8350 - acc: 0.6426 - val_loss: 1.2117 - val_acc: 0.4538\n",
      "Epoch 49/100\n",
      "1483/1483 [==============================] - 1s 422us/sample - loss: 0.8368 - acc: 0.6359 - val_loss: 1.2377 - val_acc: 0.4595\n",
      "Epoch 50/100\n",
      "1483/1483 [==============================] - 1s 432us/sample - loss: 0.8383 - acc: 0.6386 - val_loss: 1.2237 - val_acc: 0.4335\n",
      "Epoch 51/100\n",
      "1483/1483 [==============================] - ETA: 0s - loss: 0.8210 - acc: 0.649 - 1s 432us/sample - loss: 0.8196 - acc: 0.6507 - val_loss: 1.2050 - val_acc: 0.4711\n",
      "Epoch 52/100\n",
      "1483/1483 [==============================] - 1s 432us/sample - loss: 0.8280 - acc: 0.6271 - val_loss: 1.1878 - val_acc: 0.4595\n",
      "Epoch 53/100\n",
      "1483/1483 [==============================] - 1s 434us/sample - loss: 0.8321 - acc: 0.6392 - val_loss: 1.2459 - val_acc: 0.4509\n",
      "Epoch 54/100\n",
      "1483/1483 [==============================] - 1s 427us/sample - loss: 0.8325 - acc: 0.6386 - val_loss: 1.2976 - val_acc: 0.4133\n",
      "Epoch 55/100\n",
      "1483/1483 [==============================] - 1s 421us/sample - loss: 0.8161 - acc: 0.6460 - val_loss: 1.2404 - val_acc: 0.4220\n",
      "Epoch 56/100\n",
      "1483/1483 [==============================] - 1s 430us/sample - loss: 0.8171 - acc: 0.6480 - val_loss: 1.2692 - val_acc: 0.4393\n",
      "Epoch 57/100\n",
      "1483/1483 [==============================] - 1s 437us/sample - loss: 0.8251 - acc: 0.6440 - val_loss: 1.2820 - val_acc: 0.4653\n",
      "Epoch 58/100\n",
      "1483/1483 [==============================] - 1s 439us/sample - loss: 0.8246 - acc: 0.6426 - val_loss: 1.2109 - val_acc: 0.4451\n"
     ]
    },
    {
     "name": "stdout",
     "output_type": "stream",
     "text": [
      "Epoch 59/100\n",
      "1483/1483 [==============================] - 1s 425us/sample - loss: 0.7995 - acc: 0.6554 - val_loss: 1.2572 - val_acc: 0.4566\n",
      "Epoch 60/100\n",
      "1483/1483 [==============================] - 1s 423us/sample - loss: 0.8073 - acc: 0.6507 - val_loss: 1.2078 - val_acc: 0.4538\n",
      "Epoch 61/100\n",
      "1483/1483 [==============================] - 1s 421us/sample - loss: 0.8108 - acc: 0.6507 - val_loss: 1.1616 - val_acc: 0.4855\n",
      "Epoch 62/100\n",
      "1483/1483 [==============================] - 1s 427us/sample - loss: 0.8052 - acc: 0.6480 - val_loss: 1.2570 - val_acc: 0.4682\n",
      "Epoch 63/100\n",
      "1483/1483 [==============================] - 1s 420us/sample - loss: 0.8057 - acc: 0.6507 - val_loss: 1.1897 - val_acc: 0.4538\n",
      "Epoch 64/100\n",
      "1483/1483 [==============================] - 1s 422us/sample - loss: 0.8001 - acc: 0.6548 - val_loss: 1.2132 - val_acc: 0.4740\n",
      "Epoch 65/100\n",
      "1483/1483 [==============================] - 1s 494us/sample - loss: 0.8027 - acc: 0.6548 - val_loss: 1.2653 - val_acc: 0.4480\n",
      "Epoch 66/100\n",
      "1483/1483 [==============================] - 1s 481us/sample - loss: 0.7896 - acc: 0.6595 - val_loss: 1.3227 - val_acc: 0.4509\n",
      "Epoch 67/100\n",
      "1483/1483 [==============================] - ETA: 0s - loss: 0.7901 - acc: 0.648 - 1s 468us/sample - loss: 0.7903 - acc: 0.6480 - val_loss: 1.2646 - val_acc: 0.4566\n",
      "Epoch 68/100\n",
      "1483/1483 [==============================] - 1s 455us/sample - loss: 0.7873 - acc: 0.6655 - val_loss: 1.2723 - val_acc: 0.4711\n",
      "Epoch 69/100\n",
      "1483/1483 [==============================] - 1s 481us/sample - loss: 0.7795 - acc: 0.6581 - val_loss: 1.2452 - val_acc: 0.4480\n",
      "Epoch 70/100\n",
      "1483/1483 [==============================] - 1s 470us/sample - loss: 0.7785 - acc: 0.6467 - val_loss: 1.2436 - val_acc: 0.4566\n",
      "Epoch 71/100\n",
      "1483/1483 [==============================] - 1s 482us/sample - loss: 0.7671 - acc: 0.6662 - val_loss: 1.3028 - val_acc: 0.4682\n",
      "Epoch 72/100\n",
      "1483/1483 [==============================] - 1s 465us/sample - loss: 0.7820 - acc: 0.6527 - val_loss: 1.3264 - val_acc: 0.4393\n",
      "Epoch 73/100\n",
      "1483/1483 [==============================] - 1s 466us/sample - loss: 0.7597 - acc: 0.6696 - val_loss: 1.3652 - val_acc: 0.4451\n",
      "Epoch 74/100\n",
      "1483/1483 [==============================] - 1s 459us/sample - loss: 0.7524 - acc: 0.6655 - val_loss: 1.2979 - val_acc: 0.4595\n",
      "Epoch 75/100\n",
      "1483/1483 [==============================] - 1s 449us/sample - loss: 0.7611 - acc: 0.6730 - val_loss: 1.3939 - val_acc: 0.4538\n",
      "Epoch 76/100\n",
      "1483/1483 [==============================] - 1s 435us/sample - loss: 0.7490 - acc: 0.6682 - val_loss: 1.2841 - val_acc: 0.4509\n",
      "Epoch 77/100\n",
      "1483/1483 [==============================] - 1s 432us/sample - loss: 0.7571 - acc: 0.6804 - val_loss: 1.3341 - val_acc: 0.4162\n",
      "Epoch 78/100\n",
      "1483/1483 [==============================] - 1s 427us/sample - loss: 0.7502 - acc: 0.6689 - val_loss: 1.3249 - val_acc: 0.4422\n",
      "Epoch 79/100\n",
      "1483/1483 [==============================] - 1s 493us/sample - loss: 0.7459 - acc: 0.6784 - val_loss: 1.4259 - val_acc: 0.4277\n",
      "Epoch 80/100\n",
      "1483/1483 [==============================] - 1s 450us/sample - loss: 0.7325 - acc: 0.6811 - val_loss: 1.3874 - val_acc: 0.4624\n",
      "Epoch 81/100\n",
      "1483/1483 [==============================] - 1s 477us/sample - loss: 0.7541 - acc: 0.6736 - val_loss: 1.3922 - val_acc: 0.4595\n",
      "Epoch 82/100\n",
      "1483/1483 [==============================] - 1s 498us/sample - loss: 0.7286 - acc: 0.6824 - val_loss: 1.4040 - val_acc: 0.4595\n",
      "Epoch 83/100\n",
      "1483/1483 [==============================] - 1s 473us/sample - loss: 0.7348 - acc: 0.6709 - val_loss: 1.4013 - val_acc: 0.4538\n",
      "Epoch 84/100\n",
      "1483/1483 [==============================] - 1s 481us/sample - loss: 0.7122 - acc: 0.6952 - val_loss: 1.3555 - val_acc: 0.4624\n",
      "Epoch 85/100\n",
      "1483/1483 [==============================] - 1s 499us/sample - loss: 0.7212 - acc: 0.6784 - val_loss: 1.3378 - val_acc: 0.4566\n",
      "Epoch 86/100\n",
      "1483/1483 [==============================] - 1s 459us/sample - loss: 0.7059 - acc: 0.6898 - val_loss: 1.3802 - val_acc: 0.4538\n",
      "Epoch 87/100\n",
      "1483/1483 [==============================] - 1s 511us/sample - loss: 0.7201 - acc: 0.6831 - val_loss: 1.3770 - val_acc: 0.4364\n",
      "Epoch 88/100\n",
      "1483/1483 [==============================] - 1s 504us/sample - loss: 0.7061 - acc: 0.6891 - val_loss: 1.3798 - val_acc: 0.4393\n",
      "Epoch 89/100\n",
      "1483/1483 [==============================] - 1s 497us/sample - loss: 0.7117 - acc: 0.6831 - val_loss: 1.4012 - val_acc: 0.4566\n",
      "Epoch 90/100\n",
      "1483/1483 [==============================] - 1s 496us/sample - loss: 0.7104 - acc: 0.6891 - val_loss: 1.4075 - val_acc: 0.4364\n",
      "Epoch 91/100\n",
      "1483/1483 [==============================] - 1s 499us/sample - loss: 0.6787 - acc: 0.7087 - val_loss: 1.3959 - val_acc: 0.4682\n",
      "Epoch 92/100\n",
      "1483/1483 [==============================] - 1s 495us/sample - loss: 0.6924 - acc: 0.6925 - val_loss: 1.4535 - val_acc: 0.4509\n",
      "Epoch 93/100\n",
      "1483/1483 [==============================] - 1s 487us/sample - loss: 0.6928 - acc: 0.7047 - val_loss: 1.5147 - val_acc: 0.4451\n",
      "Epoch 94/100\n",
      "1483/1483 [==============================] - 1s 453us/sample - loss: 0.6914 - acc: 0.6945 - val_loss: 1.4776 - val_acc: 0.4451\n",
      "Epoch 95/100\n",
      "1483/1483 [==============================] - 1s 504us/sample - loss: 0.6665 - acc: 0.7181 - val_loss: 1.4768 - val_acc: 0.4480\n",
      "Epoch 96/100\n",
      "1483/1483 [==============================] - 1s 490us/sample - loss: 0.6805 - acc: 0.7026 - val_loss: 1.4319 - val_acc: 0.4422\n",
      "Epoch 97/100\n",
      "1483/1483 [==============================] - 1s 493us/sample - loss: 0.6732 - acc: 0.7040 - val_loss: 1.5868 - val_acc: 0.4277\n",
      "Epoch 98/100\n",
      "1483/1483 [==============================] - 1s 498us/sample - loss: 0.6679 - acc: 0.7020 - val_loss: 1.5861 - val_acc: 0.4393\n",
      "Epoch 99/100\n",
      "1483/1483 [==============================] - 1s 503us/sample - loss: 0.6748 - acc: 0.6966 - val_loss: 1.6504 - val_acc: 0.4335\n",
      "Epoch 100/100\n",
      "1483/1483 [==============================] - 1s 497us/sample - loss: 0.6641 - acc: 0.7161 - val_loss: 1.5121 - val_acc: 0.4162\n"
     ]
    }
   ],
   "source": [
    "model.compile(optimizer='adam',\n",
    "              loss=tf.keras.losses.CategoricalCrossentropy(from_logits=True),\n",
    "              metrics=['accuracy']) \n",
    "\n",
    "history = model.fit(train_images, train_labels, epochs=100,batch_size=64, \n",
    "                validation_data=(validate_images, validate_labels))\n",
    "\n"
   ]
  },
  {
   "cell_type": "code",
   "execution_count": 20,
   "metadata": {},
   "outputs": [
    {
     "name": "stdout",
     "output_type": "stream",
     "text": [
      "306/306 - 0s - loss: 1.3116 - acc: 0.5327\n"
     ]
    }
   ],
   "source": [
    "test_loss, test_acc = model.evaluate(test_images,  test_labels, verbose=2)"
   ]
  },
  {
   "cell_type": "code",
   "execution_count": 21,
   "metadata": {},
   "outputs": [
    {
     "name": "stdout",
     "output_type": "stream",
     "text": [
      "0.53267974\n"
     ]
    }
   ],
   "source": [
    "print(test_acc)"
   ]
  },
  {
   "cell_type": "code",
   "execution_count": 22,
   "metadata": {},
   "outputs": [
    {
     "name": "stdout",
     "output_type": "stream",
     "text": [
      "346/346 - 0s - loss: 1.5121 - acc: 0.4162\n"
     ]
    },
    {
     "data": {
      "image/png": "[encoded data removed]",
      "text/plain": [
       "<Figure size 432x288 with 1 Axes>"
      ]
     },
     "metadata": {
      "needs_background": "light"
     },
     "output_type": "display_data"
    }
   ],
   "source": [
    "plt.plot(history.history['acc'], label='acc')\n",
    "plt.plot(history.history['val_acc'], label = 'val_acc')\n",
    "plt.xlabel('Epoch')\n",
    "plt.ylabel('Accuracy')\n",
    "plt.ylim([0.2, 1])\n",
    "plt.legend(loc='lower right')\n",
    "\n",
    "test_loss, test_acc = model.evaluate(validate_images,  validate_labels, verbose=2)"
   ]
  },
  {
   "cell_type": "code",
   "execution_count": 23,
   "metadata": {},
   "outputs": [
    {
     "name": "stdout",
     "output_type": "stream",
     "text": [
      "[ 0.5880207  1.5323483 -2.6163125]\n"
     ]
    }
   ],
   "source": [
    "class_pred = model.predict(test_images,batch_size=16)\n",
    "print(class_pred[10])"
   ]
  },
  {
   "cell_type": "code",
   "execution_count": 24,
   "metadata": {},
   "outputs": [],
   "source": [
    "labels_pred=np.argmax(class_pred,axis=1)\n",
    "df2[\"pred_res\"]=labels_pred"
   ]
  },
  {
   "cell_type": "code",
   "execution_count": 25,
   "metadata": {
    "scrolled": true
   },
   "outputs": [
    {
     "name": "stdout",
     "output_type": "stream",
     "text": [
      "[False False  True  True  True False False False  True  True  True  True\n",
      " False  True False False  True  True  True  True  True  True  True  True\n",
      "  True False  True False False  True  True  True False False False False\n",
      "  True False False False False False False  True False False False  True\n",
      " False False  True  True  True  True  True False  True  True  True False\n",
      " False False  True False False False  True  True  True  True  True  True\n",
      " False  True False  True False False False False False False  True  True\n",
      "  True  True False False  True  True False  True  True  True  True  True\n",
      " False  True  True False  True  True False False False  True False False\n",
      " False  True  True False False  True  True  True False False  True False\n",
      " False  True False  True False False False  True  True False  True  True\n",
      " False  True  True False False False False  True  True  True  True  True\n",
      "  True  True  True False  True  True False  True  True False False False\n",
      " False  True False False False False False False False  True False  True\n",
      " False False False False False False False False  True  True False  True\n",
      "  True False False  True  True False False False  True  True False  True\n",
      " False False False  True  True False  True  True  True  True  True  True\n",
      " False  True False False False  True False False False False  True  True\n",
      "  True  True False False False False  True  True False  True  True  True\n",
      "  True  True False  True  True  True False  True  True  True  True False\n",
      " False False False  True  True  True  True  True  True False False False\n",
      "  True False False  True  True  True False  True False False  True False\n",
      " False False  True  True  True  True  True  True False  True  True  True\n",
      "  True  True False  True  True False  True  True  True False  True  True\n",
      " False False False False  True  True  True  True False  True  True  True\n",
      "  True False  True False  True False]\n",
      "Numbers of correct prediction:163\n",
      "Accuracy:53.267974\n"
     ]
    }
   ],
   "source": [
    "correct=(labels_pred == test_labels.argmax(axis=1))\n",
    "print(correct)\n",
    "print(\"Numbers of correct prediction:%d\" %sum(correct))\n",
    "a =len(correct)\n",
    "print(\"Accuracy:%f\" %((sum(correct)*100)/a))"
   ]
  },
  {
   "cell_type": "code",
   "execution_count": 26,
   "metadata": {},
   "outputs": [
    {
     "name": "stdout",
     "output_type": "stream",
     "text": [
      "date : 0, cost : -174.550003,buy_c:1,price:174.550003 Buy\n",
      "date : 100, cost :3.1499939999999924,buy_c:0,price:177.699997 Sell\n",
      "date : 104, cost : -171.20001200000002,buy_c:1,price:174.350006 Buy\n",
      "date : 130, cost :5.449981999999977,buy_c:0,price:176.649994 Sell\n",
      "date : 131, cost : -169.45001200000002,buy_c:1,price:174.899994 Buy\n",
      "date : 140, cost :14.149993999999992,buy_c:0,price:183.600006 Sell\n",
      "date : 142, cost : -170.25,buy_c:1,price:184.399994 Buy\n",
      "date : 143, cost :23.600006000000008,buy_c:0,price:193.850006 Sell\n",
      "date : 144, cost : -167.449997,buy_c:1,price:191.050003 Buy\n",
      "date : 149, cost :28.949996999999996,buy_c:0,price:196.399994 Sell\n",
      "date : 151, cost : -166.800003,buy_c:1,price:195.75 Buy\n",
      "date : 152, cost :33.5,buy_c:0,price:200.300003 Sell\n",
      "date : 153, cost : -164.0,buy_c:1,price:197.5 Buy\n",
      "-164.0\n",
      "7\n",
      "6\n",
      "win: 6\n",
      "loss: 0\n"
     ]
    }
   ],
   "source": [
    "df2['prediction']=labels_pred\n",
    "icost=[]\n",
    "buy_l=[]\n",
    "cost=0\n",
    "buy_c=0\n",
    "buy=0\n",
    "sell=0\n",
    "win=0\n",
    "loss=0\n",
    "\n",
    "for i in df2.index:\n",
    "    if(df2['prediction'][i]==0):\n",
    "        if(buy_c<=0):\n",
    "            buy_c=buy_c+1\n",
    "            buy=buy+1\n",
    "            cost=cost - df2['Adj Close'][i]\n",
    "            x=df2['Adj Close'][i]\n",
    "            #print(cost)\n",
    "            buy_l.append(x)\n",
    "            print(\"date : {}, cost : {},buy_c:{},price:{}\".format(i, cost,buy_c,x),'Buy')\n",
    "    if(df2['prediction'][i]==2):\n",
    "        y=df2['Adj Close'][i]\n",
    "        if(buy_c>=1):\n",
    "            if(y-x>0):\n",
    "                buy_c=buy_c-1\n",
    "                sell=sell+1\n",
    "                cost=cost+df2['Adj Close'][i]\n",
    "                print(\"date : {}, cost :{},buy_c:{},price:{}\".format(i, cost,buy_c,y),\"Sell\")\n",
    "                if((buy>0) & (sell>0)):\n",
    "                    if(y-x<0):\n",
    "                        loss=loss+1\n",
    "                    if(y-x>0):\n",
    "                        win=win+1\n",
    "                    icost.append(y-x)\n",
    "    if(df2['prediction'][i]==1):\n",
    "        continue\n",
    "    \n",
    "    \n",
    "    \n",
    "  \n",
    "print(cost)\n",
    "#print((cost-icost)/icost)\n",
    "print(buy)\n",
    "print(sell)\n",
    "print(\"win:\",win)\n",
    "print('loss:',loss)"
   ]
  },
  {
   "cell_type": "code",
   "execution_count": 27,
   "metadata": {},
   "outputs": [],
   "source": [
    "yhat_classes=df2[\"prediction\"]\n",
    "testy=df2[\"result\"]"
   ]
  },
  {
   "cell_type": "code",
   "execution_count": 28,
   "metadata": {},
   "outputs": [],
   "source": [
    "from sklearn.metrics import accuracy_score\n",
    "from sklearn.metrics import precision_score\n",
    "from sklearn.metrics import recall_score\n",
    "from sklearn.metrics import f1_score\n",
    "from sklearn.metrics import cohen_kappa_score\n",
    "from sklearn.metrics import roc_auc_score\n",
    "from sklearn.metrics import confusion_matrix\n",
    "from sklearn.metrics import classification_report "
   ]
  },
  {
   "cell_type": "code",
   "execution_count": 29,
   "metadata": {},
   "outputs": [
    {
     "name": "stdout",
     "output_type": "stream",
     "text": [
      "Accuracy: 0.532680\n",
      "Precision: 0.515297\n",
      "Recall: 0.509717\n",
      "F1 score: 0.510155\n"
     ]
    }
   ],
   "source": [
    "# accuracy: (tp + tn) / (p + n)\n",
    "accuracy = accuracy_score(testy, yhat_classes)\n",
    "print('Accuracy: %f' % accuracy)\n",
    "# precision tp / (tp + fp)\n",
    "precision = precision_score(testy, yhat_classes ,average='macro')\n",
    "print('Precision: %f' % precision)\n",
    "# recall: tp / (tp + fn)\n",
    "recall = recall_score(testy, yhat_classes,average='macro')\n",
    "print('Recall: %f' % recall)\n",
    "# f1: 2 tp / (2 tp + fp + fn)\n",
    "f1 = f1_score(testy, yhat_classes,average='macro')\n",
    "print('F1 score: %f' % f1)"
   ]
  },
  {
   "cell_type": "code",
   "execution_count": 30,
   "metadata": {},
   "outputs": [
    {
     "name": "stdout",
     "output_type": "stream",
     "text": [
      "Confusion Matrix :\n",
      "[[87 26 14]\n",
      " [30 32 22]\n",
      " [29 22 44]]\n",
      "Accuracy Score : 0.5326797385620915\n",
      "Report\n",
      "              precision    recall  f1-score   support\n",
      "\n",
      "           0       0.60      0.69      0.64       127\n",
      "           1       0.40      0.38      0.39        84\n",
      "           2       0.55      0.46      0.50        95\n",
      "\n",
      "    accuracy                           0.53       306\n",
      "   macro avg       0.52      0.51      0.51       306\n",
      "weighted avg       0.53      0.53      0.53       306\n",
      "\n"
     ]
    }
   ],
   "source": [
    "results = confusion_matrix(testy, yhat_classes) \n",
    "  \n",
    "print ('Confusion Matrix :')\n",
    "print(results) \n",
    "print ('Accuracy Score :',accuracy_score(testy, yhat_classes))\n",
    "print(\"Report\")\n",
    "print (classification_report(testy, yhat_classes))\n"
   ]
  },
  {
   "cell_type": "code",
   "execution_count": null,
   "metadata": {},
   "outputs": [],
   "source": []
  }
 ],
 "metadata": {
  "kernelspec": {
   "display_name": "Python 3",
   "language": "python",
   "name": "python3"
  },
  "language_info": {
   "codemirror_mode": {
    "name": "ipython",
    "version": 3
   },
   "file_extension": ".py",
   "mimetype": "text/x-python",
   "name": "python",
   "nbconvert_exporter": "python",
   "pygments_lexer": "ipython3",
   "version": "3.6.10"
  }
 },
 "nbformat": 4,
 "nbformat_minor": 4
}
